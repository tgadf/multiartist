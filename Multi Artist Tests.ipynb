{
 "cells": [
  {
   "cell_type": "code",
   "execution_count": 7,
   "metadata": {},
   "outputs": [
    {
     "name": "stdout",
     "output_type": "stream",
     "text": [
      "The autoreload extension is already loaded. To reload it, use:\n",
      "  %reload_ext autoreload\n"
     ]
    },
    {
     "data": {
      "text/html": [
       "<style>.container { width:100% !important; }</style>"
      ],
      "text/plain": [
       "<IPython.core.display.HTML object>"
      ]
     },
     "metadata": {},
     "output_type": "display_data"
    },
    {
     "data": {
      "text/html": [
       "<style>div.output_area{max-height:10000px;overflow:scroll;}</style>"
      ],
      "text/plain": [
       "<IPython.core.display.HTML object>"
      ]
     },
     "metadata": {},
     "output_type": "display_data"
    },
    {
     "name": "stdout",
     "output_type": "stream",
     "text": [
      "Python: 3.7.7 (default, Mar 26 2020, 10:32:53) \n",
      "[Clang 4.0.1 (tags/RELEASE_401/final)]\n",
      "Notebook Last Run Initiated: 2020-12-19 19:01:11.754481\n"
     ]
    }
   ],
   "source": [
    "## Basic stuff\n",
    "%load_ext autoreload\n",
    "%autoreload\n",
    "from IPython.core.display import display, HTML\n",
    "display(HTML(\"<style>.container { width:100% !important; }</style>\"))\n",
    "display(HTML(\"\"\"<style>div.output_area{max-height:10000px;overflow:scroll;}</style>\"\"\"))\n",
    "\n",
    "## Python Version\n",
    "import sys\n",
    "\n",
    "from ioUtils import getFile\n",
    "\n",
    "from multiArtist import multiartist\n",
    "print(\"Python: {0}\".format(sys.version))\n",
    "\n",
    "import datetime as dt\n",
    "start = dt.datetime.now()\n",
    "print(\"Notebook Last Run Initiated: \"+str(start))"
   ]
  },
  {
   "cell_type": "code",
   "execution_count": 8,
   "metadata": {},
   "outputs": [
    {
     "name": "stdout",
     "output_type": "stream",
     "text": [
      "Adding 236 known multi delim artists.\n"
     ]
    }
   ],
   "source": [
    "mulArts  = multiartist(cutoff=0.9, discdata=None, exact=False)\n",
    "mulArts.setKnownMultiDelimArtists(getFile(\"knownMultiArtists.yaml\"))"
   ]
  },
  {
   "cell_type": "code",
   "execution_count": 13,
   "metadata": {},
   "outputs": [
    {
     "name": "stdout",
     "output_type": "stream",
     "text": [
      "Chris Cox ::: Happy Clappers --> {'Chris Cox': ['?'], 'Happy Clappers': ['?']}\n"
     ]
    }
   ],
   "source": [
    "artist = \"Chris Cox ::: Happy Clappers\"\n",
    "matches = mulArts.getArtistNames(artist)\n",
    "print(\"{0} --> {1}\".format(artist, matches))"
   ]
  },
  {
   "cell_type": "code",
   "execution_count": 10,
   "metadata": {},
   "outputs": [
    {
     "name": "stdout",
     "output_type": "stream",
     "text": [
      "Chris Cox Vs. Happy Clappers --> {'Happy Clappers': ['156065', '47688'], 'Chris Cox': ['5214801', '11617', '3138819', '3236035', '1649137', '3693538', '3993249', '454749', '3939952', '5798465', '3853077', '4535078', '734379', '5038408', '178388', '6475109']}\n"
     ]
    }
   ],
   "source": [
    "artist = \"Chris Cox Vs. Happy Clappers\"\n",
    "matches = mulArts.getArtistNames(artist)\n",
    "result = {\"Happy Clappers\": [\"156065\", \"47688\"], \"Chris Cox\": [\"5214801\", \"11617\", \"3138819\", \"3236035\", \"1649137\", \"3693538\", \"3993249\", \"454749\", \"3939952\", \"5798465\", \"3853077\", \"4535078\", \"734379\", \"5038408\", \"178388\", \"6475109\"]}\n",
    "print(\"{0} --> {1}\".format(artist, result))"
   ]
  },
  {
   "cell_type": "code",
   "execution_count": 13,
   "metadata": {},
   "outputs": [
    {
     "name": "stdout",
     "output_type": "stream",
     "text": [
      "T.M.Revolution × Nana Mizuki --> {'Nana Mizuki': ['680330'], 'T.M.Revolution': ['1367682']}\n"
     ]
    }
   ],
   "source": [
    "artist = \"T.M.Revolution × Nana Mizuki\"\n",
    "matches = mulArts.getArtistNames(artist)\n",
    "result = {\"Nana Mizuki\": [\"680330\"], \"T.M.Revolution\": [\"1367682\"]}\n",
    "print(\"{0} --> {1}\".format(artist, result))"
   ]
  },
  {
   "cell_type": "code",
   "execution_count": null,
   "metadata": {},
   "outputs": [],
   "source": []
  },
  {
   "cell_type": "code",
   "execution_count": 13,
   "metadata": {},
   "outputs": [
    {
     "name": "stdout",
     "output_type": "stream",
     "text": [
      "The autoreload extension is already loaded. To reload it, use:\n",
      "  %reload_ext autoreload\n",
      "Adding 258 known multi delim artists.\n"
     ]
    }
   ],
   "source": [
    "## Basic stuff\n",
    "%load_ext autoreload\n",
    "%autoreload\n",
    "from multiArtist import multiartist\n",
    "multiDelimArtists=open(\"multiDelimArtists.dat\").readlines()\n",
    "multiDelimArtists = [x.replace(\"\\n\", \"\") for x in multiDelimArtists]\n",
    "multiDelimArtists[:3]\n",
    "\n",
    "mulArts  = multiartist(cutoff=0.9, discdata=None, exact=False)\n",
    "mulArts.setKnownMultiDelimArtists(multiDelimArtists)"
   ]
  },
  {
   "cell_type": "code",
   "execution_count": 14,
   "metadata": {},
   "outputs": [
    {
     "name": "stdout",
     "output_type": "stream",
     "text": [
      "Getting Artist Names For Drake & Future\n",
      "Finding Artists Within: Drake & Future\n",
      "1 \t Drake & Future ===> {'&': ['Drake', 'Future']}\n",
      "2 \t Drake ===> {}\n",
      "Adding Drake. Sum is 0\n",
      "2 \t Future ===> {}\n",
      "Adding Future. Sum is 1\n",
      "Combining Results\n",
      "All Artists:   {'Drake': True, 'Future': True}\n",
      "Known Artists: {'Drake', 'Future'}\n"
     ]
    },
    {
     "data": {
      "text/plain": [
       "{'Drake': ['?'], 'Future': ['?']}"
      ]
     },
     "execution_count": 14,
     "metadata": {},
     "output_type": "execute_result"
    }
   ],
   "source": [
    "mulArts.getArtistNames(\"Drake & Future\", debug=True)"
   ]
  },
  {
   "cell_type": "code",
   "execution_count": 17,
   "metadata": {},
   "outputs": [
    {
     "name": "stdout",
     "output_type": "stream",
     "text": [
      "1 \t 62b7b735702ee41ed53aa9a8dca3e656, Daddy ===> {',': ['62b7b735702ee41ed53aa9a8dca3e656', 'Daddy']}\n",
      "2 \t Daddy ===> {}\n",
      "Adding Daddy. Sum is 0\n",
      "2 \t 62b7b735702ee41ed53aa9a8dca3e656 ===> {}\n",
      "Adding 62b7b735702ee41ed53aa9a8dca3e656. Sum is 1\n",
      "{'Daddy': True, '62b7b735702ee41ed53aa9a8dca3e656': True}\n"
     ]
    },
    {
     "data": {
      "text/plain": [
       "{'Daddy': ['?'], 'Beyonce & Jay-Z': ['?']}"
      ]
     },
     "execution_count": 17,
     "metadata": {},
     "output_type": "execute_result"
    }
   ],
   "source": [
    "mulArts.getArtistNames(\"Beyonce & Jay-Z, Daddy\", debug=True)"
   ]
  },
  {
   "cell_type": "code",
   "execution_count": 26,
   "metadata": {},
   "outputs": [
    {
     "name": "stdout",
     "output_type": "stream",
     "text": [
      "1 \t Drake& Future ===> {'&': ['Drake', 'Future']}\n",
      "2 \t Drake ===> {}\n",
      "Adding Drake. Sum is 0\n",
      "2 \t Future ===> {}\n",
      "Adding Future. Sum is 1\n"
     ]
    },
    {
     "data": {
      "text/plain": [
       "{'Drake': ['?'], 'Future': ['?']}"
      ]
     },
     "execution_count": 26,
     "metadata": {},
     "output_type": "execute_result"
    }
   ],
   "source": [
    "mulArts.getArtistNames(\"Drake& Future\", debug=True)"
   ]
  },
  {
   "cell_type": "code",
   "execution_count": 25,
   "metadata": {},
   "outputs": [
    {
     "name": "stdout",
     "output_type": "stream",
     "text": [
      "1 \t Drake With Future ===> {' With ': ['Drake', 'Future']}\n",
      "2 \t Drake ===> {}\n",
      "Adding Drake. Sum is 0\n",
      "2 \t Future ===> {}\n",
      "Adding Future. Sum is 1\n"
     ]
    },
    {
     "data": {
      "text/plain": [
       "{'Drake': ['?'], 'Future': ['?']}"
      ]
     },
     "execution_count": 25,
     "metadata": {},
     "output_type": "execute_result"
    }
   ],
   "source": [
    "mulArts.getArtistNames(\"Drake With Future\", debug=True)"
   ]
  },
  {
   "cell_type": "code",
   "execution_count": null,
   "metadata": {},
   "outputs": [],
   "source": []
  },
  {
   "cell_type": "code",
   "execution_count": null,
   "metadata": {},
   "outputs": [],
   "source": []
  },
  {
   "cell_type": "code",
   "execution_count": 7,
   "metadata": {},
   "outputs": [
    {
     "data": {
      "text/plain": [
       "'{\"Happy Clappers\": [\"156065\", \"47688\"], \"Chris Cox\": [\"5214801\", \"11617\", \"3138819\", \"3236035\", \"1649137\", \"3693538\", \"3993249\", \"454749\", \"3939952\", \"5798465\", \"3853077\", \"4535078\", \"734379\", \"5038408\", \"178388\", \"6475109\"]}'"
      ]
     },
     "execution_count": 7,
     "metadata": {},
     "output_type": "execute_result"
    }
   ],
   "source": [
    "import json\n",
    "json.dumps(matches)"
   ]
  },
  {
   "cell_type": "code",
   "execution_count": null,
   "metadata": {},
   "outputs": [],
   "source": []
  }
 ],
 "metadata": {
  "kernelspec": {
   "display_name": "Python 3",
   "language": "python",
   "name": "python3"
  },
  "language_info": {
   "codemirror_mode": {
    "name": "ipython",
    "version": 3
   },
   "file_extension": ".py",
   "mimetype": "text/x-python",
   "name": "python",
   "nbconvert_exporter": "python",
   "pygments_lexer": "ipython3",
   "version": "3.7.7"
  }
 },
 "nbformat": 4,
 "nbformat_minor": 2
}
