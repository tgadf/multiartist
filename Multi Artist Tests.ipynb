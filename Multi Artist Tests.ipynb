{
 "cells": [
  {
   "cell_type": "code",
   "execution_count": null,
   "metadata": {},
   "outputs": [],
   "source": [
    "## Basic stuff\n",
    "%load_ext autoreload\n",
    "%autoreload\n",
    "from IPython.core.display import display, HTML\n",
    "display(HTML(\"<style>.container { width:100% !important; }</style>\"))\n",
    "display(HTML(\"\"\"<style>div.output_area{max-height:10000px;overflow:scroll;}</style>\"\"\"))\n",
    "\n",
    "## Python Version\n",
    "import sys\n",
    "\n",
    "from ioUtils import getFile\n",
    "\n",
    "from multiArtist import multiartist\n",
    "print(\"Python: {0}\".format(sys.version))\n",
    "\n",
    "import datetime as dt\n",
    "start = dt.datetime.now()\n",
    "print(\"Notebook Last Run Initiated: \"+str(start))"
   ]
  },
  {
   "cell_type": "code",
   "execution_count": null,
   "metadata": {},
   "outputs": [],
   "source": [
    "!python setup.py install"
   ]
  },
  {
   "cell_type": "code",
   "execution_count": null,
   "metadata": {},
   "outputs": [],
   "source": [
    "mmadb = masterMultiArtistDB()"
   ]
  },
  {
   "cell_type": "code",
   "execution_count": null,
   "metadata": {},
   "outputs": [],
   "source": [
    "mmaData = mmadb.getData()\n",
    "mmadb.merge(mmaData.sample(10), saveit=False)\n",
    "#help(testMultiArtists)"
   ]
  },
  {
   "cell_type": "code",
   "execution_count": null,
   "metadata": {},
   "outputs": [],
   "source": [
    "mmaData.__contains__(\"U2\")\n",
    "mmaData[\"U2\"]"
   ]
  },
  {
   "cell_type": "code",
   "execution_count": null,
   "metadata": {},
   "outputs": [],
   "source": [
    "mulArts  = multiartist(cutoff=0.9, discdata=None, exact=False)\n",
    "mulArts.setKnownMultiDelimArtists(getFile(\"knownMultiArtists.yaml\"))"
   ]
  },
  {
   "cell_type": "code",
   "execution_count": null,
   "metadata": {},
   "outputs": [],
   "source": [
    "from ioUtils import getFile, saveFile\n",
    "saveFile(idata=getFile(\"knownMultiArtists.yaml\"), ifile=\"knownMultiArtists.yaml\")"
   ]
  },
  {
   "cell_type": "code",
   "execution_count": null,
   "metadata": {},
   "outputs": [],
   "source": [
    "vals = \"\"\"2Pac ::: K-Ci And JoJo\"\"\"\n",
    "\n",
    "extra=\"\"\"{'JoJo': ['?'], '2Pac ::: K-Ci': ['?']}\n",
    "Somethin' For The People ::: Trina & Tamara {\"Somethin' For The People ::: Trina\": ['?'], 'Tamara': ['?']}\n",
    "Santana ::: The Product G&B {'Santana ::: The Product G': ['?'], 'B': ['?']}\n",
    "Macklemore & Ryan Lewis ::: Wanz {'Macklemore': ['?'], 'Ryan Lewis ::: Wanz': ['?']}\n",
    "Macklemore & Ryan Lewis ::: Ray Dalton {'Ryan Lewis ::: Ray Dalton': ['?'], 'Macklemore': ['?']}\n",
    "DJ Whoo Kid ::: Ranna Royce ::: Smith And Hay {'DJ Whoo Kid ::: Ranna Royce ::: Smith': ['?'], 'Hay': ['?']}\"\"\""
   ]
  },
  {
   "cell_type": "code",
   "execution_count": null,
   "metadata": {},
   "outputs": [],
   "source": [
    "artist = \"Chris Cox ::: Happy Clappers\"\n",
    "matches = mulArts.getArtistNames(vals)\n",
    "print(\"{0} --> {1}\".format(artist, matches))"
   ]
  },
  {
   "cell_type": "code",
   "execution_count": null,
   "metadata": {},
   "outputs": [],
   "source": [
    "artist = \"Chris Cox Vs. Happy Clappers\"\n",
    "matches = mulArts.getArtistNames(artist)\n",
    "result = {\"Happy Clappers\": [\"156065\", \"47688\"], \"Chris Cox\": [\"5214801\", \"11617\", \"3138819\", \"3236035\", \"1649137\", \"3693538\", \"3993249\", \"454749\", \"3939952\", \"5798465\", \"3853077\", \"4535078\", \"734379\", \"5038408\", \"178388\", \"6475109\"]}\n",
    "print(\"{0} --> {1}\".format(artist, result))"
   ]
  },
  {
   "cell_type": "code",
   "execution_count": null,
   "metadata": {},
   "outputs": [],
   "source": [
    "artist = \"T.M.Revolution × Nana Mizuki\"\n",
    "matches = mulArts.getArtistNames(artist)\n",
    "result = {\"Nana Mizuki\": [\"680330\"], \"T.M.Revolution\": [\"1367682\"]}\n",
    "print(\"{0} --> {1}\".format(artist, result))"
   ]
  },
  {
   "cell_type": "code",
   "execution_count": null,
   "metadata": {},
   "outputs": [],
   "source": []
  },
  {
   "cell_type": "code",
   "execution_count": null,
   "metadata": {},
   "outputs": [],
   "source": [
    "## Basic stuff\n",
    "%load_ext autoreload\n",
    "%autoreload\n",
    "from multiArtist import multiartist\n",
    "multiDelimArtists=open(\"multiDelimArtists.dat\").readlines()\n",
    "multiDelimArtists = [x.replace(\"\\n\", \"\") for x in multiDelimArtists]\n",
    "multiDelimArtists[:3]\n",
    "\n",
    "mulArts  = multiartist(cutoff=0.9, discdata=None, exact=False)\n",
    "mulArts.setKnownMultiDelimArtists(multiDelimArtists)"
   ]
  },
  {
   "cell_type": "code",
   "execution_count": null,
   "metadata": {},
   "outputs": [],
   "source": [
    "mulArts.getArtistNames(\"Drake & Future\", debug=True)"
   ]
  },
  {
   "cell_type": "code",
   "execution_count": null,
   "metadata": {},
   "outputs": [],
   "source": [
    "mulArts.getArtistNames(\"Beyonce & Jay-Z, Daddy\", debug=True)"
   ]
  },
  {
   "cell_type": "code",
   "execution_count": null,
   "metadata": {},
   "outputs": [],
   "source": [
    "mulArts.getArtistNames(\"Drake& Future\", debug=True)"
   ]
  },
  {
   "cell_type": "code",
   "execution_count": null,
   "metadata": {},
   "outputs": [],
   "source": [
    "mulArts.getArtistNames(\"Drake With Future\", debug=True)"
   ]
  },
  {
   "cell_type": "code",
   "execution_count": null,
   "metadata": {},
   "outputs": [],
   "source": []
  },
  {
   "cell_type": "code",
   "execution_count": null,
   "metadata": {},
   "outputs": [],
   "source": []
  },
  {
   "cell_type": "code",
   "execution_count": null,
   "metadata": {},
   "outputs": [],
   "source": [
    "import json\n",
    "json.dumps(matches)"
   ]
  },
  {
   "cell_type": "code",
   "execution_count": null,
   "metadata": {},
   "outputs": [],
   "source": []
  }
 ],
 "metadata": {
  "kernelspec": {
   "display_name": "Python 3",
   "language": "python",
   "name": "python3"
  },
  "language_info": {
   "codemirror_mode": {
    "name": "ipython",
    "version": 3
   },
   "file_extension": ".py",
   "mimetype": "text/x-python",
   "name": "python",
   "nbconvert_exporter": "python",
   "pygments_lexer": "ipython3",
   "version": "3.7.7"
  },
  "toc": {
   "base_numbering": 1,
   "nav_menu": {},
   "number_sections": true,
   "sideBar": true,
   "skip_h1_title": false,
   "title_cell": "Table of Contents",
   "title_sidebar": "Contents",
   "toc_cell": false,
   "toc_position": {},
   "toc_section_display": true,
   "toc_window_display": false
  }
 },
 "nbformat": 4,
 "nbformat_minor": 2
}
